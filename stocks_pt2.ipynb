{
 "cells": [
  {
   "cell_type": "markdown",
   "metadata": {},
   "source": [
    "# Stock Trades by Members of the US House of Representatives Part 2"
   ]
  },
  {
   "cell_type": "markdown",
   "metadata": {},
   "source": [
    "# Summary of Findings\n",
    "\n",
    "\n",
    "### Introduction\n",
    "We will be attempting to predict if the transactions were made by Democrat or Republican using the other columns as feature variables, so this is a classification problem as there are 2 possible parties for our model to predict. Therefore, we will try to build a model using a decision tree and include different features and transformers to maximize the accuracy of the predictions. In addition, we dropped all the rows in the dataframe with null values to avoid getting errors when transforming the features so we are making the assumption that the data is missing at random. It would be impossible to impute these columns since there isn't a guaranteed finite set of possible values for many of the features we are predicting with.\n",
    "\n",
    "### Baseline Model\n",
    "For our baseline model, we chose to use the 'owner' and 'type' columns as our predictor features. Since these columns were both categorical, so we used OneHotEncoder() to transform the data. Since we had previously created the 'party' column using another dataset containing the political affiliations of each district, we chose to not use the 'district' columm in the prediction of the political leaning of each transaction as it would result in almost 100% accuracy. We also excluded columns containing data such as the transaction dates and stock descriptions since they would not provide much useful information in predicting political leaning. Using the 3 basic features that we decided were relevant, our model was able to achieve an accuracy of about 60-65% on average, which doesn't sound too bad, but since an accuracy of 50% is about as good as a random guess, our model was not much better than flipping a coin. We knew that there were more features and transformers that we could design to further improve our model.\n",
    "\n",
    "### Final Model\n",
    "For our final model, we kept the features of the baseline model as is, but we added a few more features with their respective transformers. Like previously, we intentionally left out the 'district' column so that the model would not train on a feature which directly maps to the variable we are trying to predict. One new feature we added was the 'amount' column, so we used StandardScaler() to normalize the values since it was quantitative data. We also added 2 features for the column 'price_grp', which categorizes the size of the transactions on a scale from 0 to 7, with 0 being the smallest and 7 being the largest. We used OrdinalEncoder() to categorize the data in this column since the data is not just qualitative, but specifically ordinal, so it would be more precise to not use OneHotEncoder(). We also transformed the data using Binarizer(), setting columns less than or equal to 5 to 0 and columns strictly greater than 5 to 1. This separates out the transactions that are notably larger than other transactions, in case there is a relationship between a particular party making larger transactions. After adding these features, we ran GridSearchCV to find the best combination of hyperparameters for our decision tree. We found that the best parameters for our decision tree were (?), and using these parameters, we consistently get a score of around 72%, which is notably better than our baseline model. \n",
    "\n",
    "### Evaluation\n",
    "From our dataset, we are trying to predict whether a transaction is made by a Democrat or Republican, and our model is currently performing with about 73% accuracy. When exploring potential fairness subsets, we found that for sales/non-sales transactions, sales transactions tended to be not Republican because the average prediction of sales transactions was 0.05 while non-sales was 0.20. This means that Republicans tend to have less sales transactions compared to non-sales transactions according to our model."
   ]
  },
  {
   "cell_type": "markdown",
   "metadata": {},
   "source": [
    "# Code"
   ]
  },
  {
   "cell_type": "code",
   "execution_count": 1,
   "metadata": {},
   "outputs": [],
   "source": [
    "import matplotlib.pyplot as plt\n",
    "import numpy as np\n",
    "import os\n",
    "import pandas as pd\n",
    "import seaborn as sns\n",
    "%matplotlib inline\n",
    "%config InlineBackend.figure_format = 'retina'  # Higher resolution figures"
   ]
  },
  {
   "cell_type": "markdown",
   "metadata": {},
   "source": [
    "### Previous Cleaning"
   ]
  },
  {
   "cell_type": "code",
   "execution_count": 2,
   "metadata": {},
   "outputs": [],
   "source": [
    "def cleaning_func(df):\n",
    "    df=df.replace('--', np.NaN)\n",
    "    df['disclosure_date'] = pd.to_datetime(df['disclosure_date'], errors='coerce')\n",
    "    df['transaction_date'] = pd.to_datetime(df['transaction_date'], errors='coerce')\n",
    "    df['amount']= round(df['amount'].apply(lambda x: int(x.split()[0].strip('$').replace(',',''))),-1)\n",
    "    df['price_grp'] = df['amount'].replace({1000:0, 15000:1, 50000:2, 100000:3, 250000:4, 500000:5, 1000000:6, 5000000:7, 50000000:8})\n",
    "    df['district'] = df['district'].apply(lambda x: x[:2]+ x[2].strip('0')+x[3:])\n",
    "    return df"
   ]
  },
  {
   "cell_type": "code",
   "execution_count": 3,
   "metadata": {},
   "outputs": [],
   "source": [
    "df = pd.read_csv('data/all_transactions.csv')\n",
    "stocks = cleaning_func(df)"
   ]
  },
  {
   "cell_type": "code",
   "execution_count": 4,
   "metadata": {},
   "outputs": [],
   "source": [
    "df2 = pd.read_csv('data/districts.csv')\n",
    "districts = df2[['District', 'winning_party_2018']].rename(columns={'District':'district','winning_party_2018': 'party'})"
   ]
  },
  {
   "cell_type": "code",
   "execution_count": 5,
   "metadata": {
    "scrolled": true
   },
   "outputs": [
    {
     "data": {
      "text/html": [
       "<div>\n",
       "<style scoped>\n",
       "    .dataframe tbody tr th:only-of-type {\n",
       "        vertical-align: middle;\n",
       "    }\n",
       "\n",
       "    .dataframe tbody tr th {\n",
       "        vertical-align: top;\n",
       "    }\n",
       "\n",
       "    .dataframe thead th {\n",
       "        text-align: right;\n",
       "    }\n",
       "</style>\n",
       "<table border=\"1\" class=\"dataframe\">\n",
       "  <thead>\n",
       "    <tr style=\"text-align: right;\">\n",
       "      <th></th>\n",
       "      <th>disclosure_year</th>\n",
       "      <th>disclosure_date</th>\n",
       "      <th>transaction_date</th>\n",
       "      <th>owner</th>\n",
       "      <th>ticker</th>\n",
       "      <th>asset_description</th>\n",
       "      <th>type</th>\n",
       "      <th>amount</th>\n",
       "      <th>representative</th>\n",
       "      <th>district</th>\n",
       "      <th>ptr_link</th>\n",
       "      <th>cap_gains_over_200_usd</th>\n",
       "      <th>price_grp</th>\n",
       "      <th>party</th>\n",
       "    </tr>\n",
       "  </thead>\n",
       "  <tbody>\n",
       "    <tr>\n",
       "      <th>0</th>\n",
       "      <td>2021</td>\n",
       "      <td>2021-10-04</td>\n",
       "      <td>2021-09-27</td>\n",
       "      <td>joint</td>\n",
       "      <td>BP</td>\n",
       "      <td>BP plc</td>\n",
       "      <td>purchase</td>\n",
       "      <td>1000</td>\n",
       "      <td>Hon. Virginia Foxx</td>\n",
       "      <td>NC5</td>\n",
       "      <td>https://disclosures-clerk.house.gov/public_dis...</td>\n",
       "      <td>False</td>\n",
       "      <td>0</td>\n",
       "      <td>R</td>\n",
       "    </tr>\n",
       "    <tr>\n",
       "      <th>1</th>\n",
       "      <td>2021</td>\n",
       "      <td>2021-10-04</td>\n",
       "      <td>2021-09-13</td>\n",
       "      <td>joint</td>\n",
       "      <td>XOM</td>\n",
       "      <td>Exxon Mobil Corporation</td>\n",
       "      <td>purchase</td>\n",
       "      <td>1000</td>\n",
       "      <td>Hon. Virginia Foxx</td>\n",
       "      <td>NC5</td>\n",
       "      <td>https://disclosures-clerk.house.gov/public_dis...</td>\n",
       "      <td>False</td>\n",
       "      <td>0</td>\n",
       "      <td>R</td>\n",
       "    </tr>\n",
       "    <tr>\n",
       "      <th>2</th>\n",
       "      <td>2021</td>\n",
       "      <td>2021-10-04</td>\n",
       "      <td>2021-09-10</td>\n",
       "      <td>joint</td>\n",
       "      <td>ILPT</td>\n",
       "      <td>Industrial Logistics Properties Trust - Common...</td>\n",
       "      <td>purchase</td>\n",
       "      <td>15000</td>\n",
       "      <td>Hon. Virginia Foxx</td>\n",
       "      <td>NC5</td>\n",
       "      <td>https://disclosures-clerk.house.gov/public_dis...</td>\n",
       "      <td>False</td>\n",
       "      <td>1</td>\n",
       "      <td>R</td>\n",
       "    </tr>\n",
       "    <tr>\n",
       "      <th>3</th>\n",
       "      <td>2021</td>\n",
       "      <td>2021-10-04</td>\n",
       "      <td>2021-09-28</td>\n",
       "      <td>joint</td>\n",
       "      <td>PM</td>\n",
       "      <td>Phillip Morris International Inc</td>\n",
       "      <td>purchase</td>\n",
       "      <td>15000</td>\n",
       "      <td>Hon. Virginia Foxx</td>\n",
       "      <td>NC5</td>\n",
       "      <td>https://disclosures-clerk.house.gov/public_dis...</td>\n",
       "      <td>False</td>\n",
       "      <td>1</td>\n",
       "      <td>R</td>\n",
       "    </tr>\n",
       "    <tr>\n",
       "      <th>4</th>\n",
       "      <td>2021</td>\n",
       "      <td>2021-10-04</td>\n",
       "      <td>2021-09-17</td>\n",
       "      <td>self</td>\n",
       "      <td>BLK</td>\n",
       "      <td>BlackRock Inc</td>\n",
       "      <td>sale_partial</td>\n",
       "      <td>1000</td>\n",
       "      <td>Hon. Alan S. Lowenthal</td>\n",
       "      <td>CA47</td>\n",
       "      <td>https://disclosures-clerk.house.gov/public_dis...</td>\n",
       "      <td>False</td>\n",
       "      <td>0</td>\n",
       "      <td>D</td>\n",
       "    </tr>\n",
       "  </tbody>\n",
       "</table>\n",
       "</div>"
      ],
      "text/plain": [
       "   disclosure_year disclosure_date transaction_date  owner ticker  \\\n",
       "0             2021      2021-10-04       2021-09-27  joint     BP   \n",
       "1             2021      2021-10-04       2021-09-13  joint    XOM   \n",
       "2             2021      2021-10-04       2021-09-10  joint   ILPT   \n",
       "3             2021      2021-10-04       2021-09-28  joint     PM   \n",
       "4             2021      2021-10-04       2021-09-17   self    BLK   \n",
       "\n",
       "                                   asset_description          type  amount  \\\n",
       "0                                             BP plc      purchase    1000   \n",
       "1                            Exxon Mobil Corporation      purchase    1000   \n",
       "2  Industrial Logistics Properties Trust - Common...      purchase   15000   \n",
       "3                   Phillip Morris International Inc      purchase   15000   \n",
       "4                                      BlackRock Inc  sale_partial    1000   \n",
       "\n",
       "           representative district  \\\n",
       "0      Hon. Virginia Foxx      NC5   \n",
       "1      Hon. Virginia Foxx      NC5   \n",
       "2      Hon. Virginia Foxx      NC5   \n",
       "3      Hon. Virginia Foxx      NC5   \n",
       "4  Hon. Alan S. Lowenthal     CA47   \n",
       "\n",
       "                                            ptr_link  cap_gains_over_200_usd  \\\n",
       "0  https://disclosures-clerk.house.gov/public_dis...                   False   \n",
       "1  https://disclosures-clerk.house.gov/public_dis...                   False   \n",
       "2  https://disclosures-clerk.house.gov/public_dis...                   False   \n",
       "3  https://disclosures-clerk.house.gov/public_dis...                   False   \n",
       "4  https://disclosures-clerk.house.gov/public_dis...                   False   \n",
       "\n",
       "   price_grp party  \n",
       "0          0     R  \n",
       "1          0     R  \n",
       "2          1     R  \n",
       "3          1     R  \n",
       "4          0     D  "
      ]
     },
     "execution_count": 5,
     "metadata": {},
     "output_type": "execute_result"
    }
   ],
   "source": [
    "stocks = pd.merge(stocks, districts, on='district', how='left')\n",
    "stocks = stocks.dropna()\n",
    "stocks.head()"
   ]
  },
  {
   "cell_type": "code",
   "execution_count": 6,
   "metadata": {},
   "outputs": [
    {
     "data": {
      "text/plain": [
       "0    5557\n",
       "1     927\n",
       "2     226\n",
       "3     137\n",
       "4      83\n",
       "5      52\n",
       "6      42\n",
       "7       8\n",
       "Name: price_grp, dtype: int64"
      ]
     },
     "execution_count": 6,
     "metadata": {},
     "output_type": "execute_result"
    }
   ],
   "source": [
    "stocks.get('price_grp').value_counts()"
   ]
  },
  {
   "cell_type": "markdown",
   "metadata": {},
   "source": [
    "### Baseline Model"
   ]
  },
  {
   "cell_type": "code",
   "execution_count": 7,
   "metadata": {},
   "outputs": [],
   "source": [
    "import pandas as pd\n",
    "import numpy as np\n",
    "import os\n",
    "\n",
    "from sklearn.model_selection import train_test_split\n",
    "from sklearn.linear_model import LinearRegression\n",
    "from sklearn.preprocessing import Binarizer\n",
    "from sklearn.preprocessing import OneHotEncoder\n",
    "from sklearn.preprocessing import OrdinalEncoder\n",
    "from sklearn.preprocessing import StandardScaler\n",
    "from sklearn.pipeline import Pipeline\n",
    "from sklearn.compose import ColumnTransformer\n",
    "from sklearn.tree import DecisionTreeClassifier\n",
    "from sklearn.model_selection import GridSearchCV"
   ]
  },
  {
   "cell_type": "code",
   "execution_count": 8,
   "metadata": {},
   "outputs": [],
   "source": [
    "X = stocks[['owner', 'amount', 'district']]\n",
    "y = stocks[['party']]\n",
    "X_train, X_test, y_train, y_test = train_test_split(X, y, test_size = 0.25)"
   ]
  },
  {
   "cell_type": "code",
   "execution_count": 9,
   "metadata": {},
   "outputs": [
    {
     "data": {
      "text/plain": [
       "Pipeline(steps=[('preprocessor',\n",
       "                 ColumnTransformer(remainder='passthrough',\n",
       "                                   transformers=[('cat', OneHotEncoder(),\n",
       "                                                  ['owner']),\n",
       "                                                 ('district',\n",
       "                                                  OrdinalEncoder(handle_unknown='use_encoded_value',\n",
       "                                                                 unknown_value=-1),\n",
       "                                                  ['district'])])),\n",
       "                ('dtc', DecisionTreeClassifier(max_depth=8))])"
      ]
     },
     "execution_count": 9,
     "metadata": {},
     "output_type": "execute_result"
    }
   ],
   "source": [
    "preproc = ColumnTransformer(transformers = [('cat', OneHotEncoder(), ['owner']), ('district', OrdinalEncoder(handle_unknown='use_encoded_value', unknown_value=-1), ['district'])], remainder = 'passthrough')\n",
    "pl = Pipeline([('preprocessor', preproc), ('dtc', DecisionTreeClassifier(max_depth=8))])\n",
    "pl.fit(X_train, y_train)"
   ]
  },
  {
   "cell_type": "code",
   "execution_count": 10,
   "metadata": {},
   "outputs": [
    {
     "data": {
      "text/plain": [
       "0.9954493742889647"
      ]
     },
     "execution_count": 10,
     "metadata": {},
     "output_type": "execute_result"
    }
   ],
   "source": [
    "pl.score(X_test, y_test)"
   ]
  },
  {
   "cell_type": "markdown",
   "metadata": {},
   "source": [
    "### Final Model"
   ]
  },
  {
   "cell_type": "code",
   "execution_count": 11,
   "metadata": {},
   "outputs": [],
   "source": [
    "X_fin = stocks[['owner', 'type', 'amount', 'price_grp']]\n",
    "y_fin = stocks[['party']]\n",
    "X_train_fin, X_test_fin, y_train_fin, y_test_fin = train_test_split(X_fin, y_fin, test_size = 0.25)"
   ]
  },
  {
   "cell_type": "code",
   "execution_count": 12,
   "metadata": {},
   "outputs": [],
   "source": [
    "col_trans = ColumnTransformer(transformers = [\\\n",
    "        ('ord', OrdinalEncoder(handle_unknown='use_encoded_value', unknown_value=-1), ['price_grp']),\\\n",
    "        ('binarizer', Binarizer(threshold=5), ['price_grp']),\\\n",
    "        ('one_hot', OneHotEncoder(), ['owner', 'type']),\\\n",
    "        ('std', StandardScaler(), ['amount'])])"
   ]
  },
  {
   "cell_type": "code",
   "execution_count": 13,
   "metadata": {},
   "outputs": [
    {
     "data": {
      "text/plain": [
       "Pipeline(steps=[('preprocessor',\n",
       "                 ColumnTransformer(transformers=[('ord',\n",
       "                                                  OrdinalEncoder(handle_unknown='use_encoded_value',\n",
       "                                                                 unknown_value=-1),\n",
       "                                                  ['price_grp']),\n",
       "                                                 ('binarizer',\n",
       "                                                  Binarizer(threshold=5),\n",
       "                                                  ['price_grp']),\n",
       "                                                 ('one_hot', OneHotEncoder(),\n",
       "                                                  ['owner', 'type']),\n",
       "                                                 ('std', StandardScaler(),\n",
       "                                                  ['amount'])])),\n",
       "                ('dtc', DecisionTreeClassifier(max_depth=8))])"
      ]
     },
     "execution_count": 13,
     "metadata": {},
     "output_type": "execute_result"
    }
   ],
   "source": [
    "final = Pipeline([('preprocessor', col_trans), ('dtc', DecisionTreeClassifier(max_depth=8))])\n",
    "final.fit(X_train_fin, y_train_fin)"
   ]
  },
  {
   "cell_type": "code",
   "execution_count": 14,
   "metadata": {},
   "outputs": [
    {
     "data": {
      "text/plain": [
       "(8, 2, 'gini')"
      ]
     },
     "execution_count": 14,
     "metadata": {},
     "output_type": "execute_result"
    }
   ],
   "source": [
    "import itertools\n",
    "\n",
    "#list of all possible hyperparameters\n",
    "hyperparameters = {\n",
    "    'max_depth': [2, 3, 4, 5, 7, 8, 10, 13, 15, 18, None], \n",
    "    'min_samples_split': [2, 3, 5, 7, 10, 15, 20],\n",
    "    'criterion': ['gini', 'entropy']\n",
    "}\n",
    "\n",
    "#use itertools to create list of all possible combinations\n",
    "grid = list(itertools.product(*hyperparameters.values()))\n",
    "\n",
    "#initialize list to store average scores for every combination of hyperparameters\n",
    "scores = []\n",
    "for param in grid:\n",
    "    score = 0\n",
    "    #simulate 5-fold cross validation\n",
    "    for i in range(5):\n",
    "        final = Pipeline([('preprocessor', col_trans), ('dtc', DecisionTreeClassifier(max_depth=param[0], min_samples_split=param[1], criterion=param[2]))])\n",
    "        final.fit(X_train_fin, y_train_fin)\n",
    "        score += final.score(X_test_fin, y_test_fin)\n",
    "    #divide by 5 to get average score, then append to list\n",
    "    scores.append(score/5)\n",
    "\n",
    "#find index of maximum score\n",
    "best_param = pd.Series(scores).idxmax()\n",
    "grid[best_param]"
   ]
  },
  {
   "cell_type": "code",
   "execution_count": 15,
   "metadata": {},
   "outputs": [
    {
     "data": {
      "text/plain": [
       "0.7229806598407281"
      ]
     },
     "execution_count": 15,
     "metadata": {},
     "output_type": "execute_result"
    }
   ],
   "source": [
    "final.score(X_test_fin, y_test_fin)"
   ]
  },
  {
   "cell_type": "markdown",
   "metadata": {},
   "source": [
    "### Evaluation"
   ]
  },
  {
   "cell_type": "code",
   "execution_count": 16,
   "metadata": {},
   "outputs": [
    {
     "data": {
      "text/plain": [
       "array(['D', 'D', 'D', ..., 'D', 'D', 'D'], dtype=object)"
      ]
     },
     "execution_count": 16,
     "metadata": {},
     "output_type": "execute_result"
    }
   ],
   "source": [
    "#predicted values of party\n",
    "y_pred = final.predict(X_test_fin)\n",
    "y_pred"
   ]
  },
  {
   "cell_type": "code",
   "execution_count": 17,
   "metadata": {},
   "outputs": [],
   "source": [
    "from sklearn.metrics import accuracy_score\n",
    "from sklearn.metrics import plot_confusion_matrix"
   ]
  },
  {
   "cell_type": "code",
   "execution_count": 18,
   "metadata": {},
   "outputs": [
    {
     "data": {
      "text/plain": [
       "0.7229806598407281"
      ]
     },
     "execution_count": 18,
     "metadata": {},
     "output_type": "execute_result"
    }
   ],
   "source": [
    "accuracy_score(y_test_fin, y_pred)"
   ]
  },
  {
   "cell_type": "code",
   "execution_count": 19,
   "metadata": {
    "scrolled": true
   },
   "outputs": [
    {
     "name": "stderr",
     "output_type": "stream",
     "text": [
      "/opt/anaconda3/lib/python3.9/site-packages/sklearn/utils/deprecation.py:87: FutureWarning: Function plot_confusion_matrix is deprecated; Function `plot_confusion_matrix` is deprecated in 1.0 and will be removed in 1.2. Use one of the class methods: ConfusionMatrixDisplay.from_predictions or ConfusionMatrixDisplay.from_estimator.\n",
      "  warnings.warn(msg, category=FutureWarning)\n"
     ]
    },
    {
     "data": {
      "text/plain": [
       "<sklearn.metrics._plot.confusion_matrix.ConfusionMatrixDisplay at 0x7fe05d745b20>"
      ]
     },
     "execution_count": 19,
     "metadata": {},
     "output_type": "execute_result"
    },
    {
     "data": {
      "image/png": "[encoded data removed]",
      "text/plain": [
       "<Figure size 432x288 with 2 Axes>"
      ]
     },
     "metadata": {
      "image/png": {
       "height": 261,
       "width": 320
      },
      "needs_background": "light"
     },
     "output_type": "display_data"
    }
   ],
   "source": [
    "plot_confusion_matrix(final, X_test_fin, y_test_fin)"
   ]
  }
 ],
 "metadata": {
  "kernelspec": {
   "display_name": "Python 3 (ipykernel)",
   "language": "python",
   "name": "python3"
  },
  "language_info": {
   "codemirror_mode": {
    "name": "ipython",
    "version": 3
   },
   "file_extension": ".py",
   "mimetype": "text/x-python",
   "name": "python",
   "nbconvert_exporter": "python",
   "pygments_lexer": "ipython3",
   "version": "3.9.12"
  }
 },
 "nbformat": 4,
 "nbformat_minor": 2
}
